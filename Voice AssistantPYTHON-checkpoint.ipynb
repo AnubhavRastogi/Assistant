{
 "cells": [
  {
   "cell_type": "code",
   "execution_count": 1,
   "metadata": {},
   "outputs": [],
   "source": [
    "# !pip install pyttsx3\n",
    "import pyttsx3\n",
    "import speech_recognition as sr\n",
    "import webbrowser\n",
    "import datetime\n",
    "import pywhatkit\n",
    "import os\n",
    "import yfinance as yf\n",
    "import pyjokes\n",
    "import wikipedia"
   ]
  },
  {
   "cell_type": "code",
   "execution_count": 2,
   "metadata": {},
   "outputs": [],
   "source": [
    "#listen to our microphone and return the audio as text using google\n",
    "\n",
    "def transform():\n",
    "    r = sr.Recognizer()\n",
    "    with sr.Microphone() as source:\n",
    "        r.pause_threshold = 0.5\n",
    "        said = r.listen(source)\n",
    "        try:\n",
    "            print('I am listening')\n",
    "            q = r.recognize_google(said, language=\"en\")\n",
    "            return q\n",
    "        except sr.UnknownValueError:\n",
    "            print(\"Sorry I did not understand\")\n",
    "            return \"I am waiting\"\n",
    "        except sr.RequestError:\n",
    "            print('Sorry the service is down')\n",
    "            return \"I am waiting\"\n",
    "        except:\n",
    "            return \"I am waiting\""
   ]
  },
  {
   "cell_type": "code",
   "execution_count": null,
   "metadata": {},
   "outputs": [],
   "source": []
  },
  {
   "cell_type": "code",
   "execution_count": 3,
   "metadata": {},
   "outputs": [],
   "source": [
    "def speaking(message):\n",
    "    engine = pyttsx3.init()\n",
    "    engine.say(message)\n",
    "    engine.runAndWait()"
   ]
  },
  {
   "cell_type": "code",
   "execution_count": null,
   "metadata": {},
   "outputs": [],
   "source": []
  },
  {
   "cell_type": "code",
   "execution_count": null,
   "metadata": {
    "scrolled": true
   },
   "outputs": [],
   "source": []
  },
  {
   "cell_type": "code",
   "execution_count": null,
   "metadata": {},
   "outputs": [],
   "source": []
  },
  {
   "cell_type": "code",
   "execution_count": 4,
   "metadata": {},
   "outputs": [],
   "source": [
    "#returns the weekday name\n",
    "def day():\n",
    "    day = datetime.date.today()\n",
    "    #print(day)\n",
    "    weekday = day.weekday()\n",
    "    #print(weekday)\n",
    "    mapping = {\n",
    "        0:'Monday',1:'Tuesday',2:'Wednesday',3:'Thursday',4:'Friday',5:'Saturday',6:'Sunday'\n",
    "    }\n",
    "    try:\n",
    "        speaking(f'Today is {mapping[weekday]}')\n",
    "    except:\n",
    "        pass"
   ]
  },
  {
   "cell_type": "code",
   "execution_count": null,
   "metadata": {},
   "outputs": [],
   "source": []
  },
  {
   "cell_type": "code",
   "execution_count": 5,
   "metadata": {},
   "outputs": [],
   "source": [
    "#returns the time\n",
    "def time():\n",
    "    time = datetime.datetime.now().strftime(\"%I:%M:%S\")\n",
    "    speaking(f\" The time is {time[1:2]} o'clock , {time[3:5]} minutes and {time[6:8]} seconds\")"
   ]
  },
  {
   "cell_type": "code",
   "execution_count": null,
   "metadata": {},
   "outputs": [],
   "source": []
  },
  {
   "cell_type": "code",
   "execution_count": 6,
   "metadata": {},
   "outputs": [],
   "source": [
    "#Intro greeting at startup\n",
    "def whatsup():\n",
    "    speaking('''Hello Anubhav,\n",
    "    How may I help you?\n",
    "    ''')"
   ]
  },
  {
   "cell_type": "code",
   "execution_count": null,
   "metadata": {},
   "outputs": [],
   "source": []
  },
  {
   "cell_type": "code",
   "execution_count": 7,
   "metadata": {},
   "outputs": [],
   "source": [
    "#the heart of our assistant. Takes queries and returns answers\n",
    "def Heart():\n",
    "    whatsup()\n",
    "    start = True\n",
    "    while(start):\n",
    "        q = transform().lower()\n",
    "        \n",
    "        if 'start youtube' in q:\n",
    "            speaking('starting youtube. Just a second.')\n",
    "            webbrowser.open('https://www.youtube.com')\n",
    "            continue\n",
    "            \n",
    "        elif 'start browser' in q:\n",
    "            speaking('opening browser')\n",
    "            webbrowser.open('https://www.google.com')\n",
    "            continue\n",
    "        \n",
    "        elif 'what day is it' in q:\n",
    "            day()\n",
    "            continue\n",
    "            \n",
    "        elif 'what time is it' in q:\n",
    "            time()\n",
    "            continue\n",
    "            \n",
    "        elif \"stop\" in q:\n",
    "            speaking('ok I will stop')\n",
    "            break\n",
    "        \n",
    "        \n",
    "        elif \"your name\" in q:\n",
    "            speaking('I am Rastogi, Your Personal Assistant')\n",
    "            continue\n",
    "            \n",
    "        elif \"search web\" in q:\n",
    "            pywhatkit.search(q)\n",
    "            speaking('that is what I found')\n",
    "            continue\n",
    "            \n",
    "        elif \"play\" in q:\n",
    "            speaking(f'playing {q}')\n",
    "            pywhatkit.playonyt(q)\n",
    "            continue\n",
    "            \n",
    "        elif \"joke\" in q:\n",
    "            speaking(pyjokes.get_joke())\n",
    "            continue\n",
    "            \n",
    "        elif \"stock price\" in q:\n",
    "            search  = q.split(\"of\")[-1].strip()\n",
    "            lookup = {'apple':'AAPL',\n",
    "                     'amazon':'AMZN',\n",
    "                     'google':\"GOOGL\"}\n",
    "            try:\n",
    "                stock = lookup[search]\n",
    "                stock = yf.Ticker(stock)\n",
    "                currentprice = stock.info[\"regularMarketPrice\"]\n",
    "                speaking(f'found it, the price for {search} is {currentprice}')\n",
    "                continue\n",
    "            except:\n",
    "                speaking(f'sorry I have no data for {search}')\n",
    "                continue"
   ]
  },
  {
   "cell_type": "code",
   "execution_count": null,
   "metadata": {},
   "outputs": [
    {
     "name": "stdout",
     "output_type": "stream",
     "text": [
      "I am listening\n",
      "I am listening\n",
      "I am listening\n",
      "Sorry I did not understand\n",
      "I am listening\n",
      "Sorry I did not understand\n",
      "I am listening\n",
      "I am listening\n",
      "Sorry I did not understand\n",
      "I am listening\n",
      "Sorry I did not understand\n",
      "I am listening\n",
      "Sorry I did not understand\n",
      "I am listening\n",
      "Sorry I did not understand\n",
      "I am listening\n",
      "Sorry I did not understand\n",
      "I am listening\n",
      "Sorry I did not understand\n",
      "I am listening\n",
      "I am listening\n",
      "I am listening\n",
      "Sorry I did not understand\n",
      "I am listening\n",
      "Sorry I did not understand\n",
      "I am listening\n",
      "Sorry I did not understand\n",
      "I am listening\n",
      "Sorry I did not understand\n",
      "I am listening\n",
      "Sorry I did not understand\n",
      "I am listening\n",
      "Sorry I did not understand\n",
      "I am listening\n",
      "Sorry I did not understand\n",
      "I am listening\n",
      "Sorry I did not understand\n",
      "I am listening\n",
      "Sorry I did not understand\n"
     ]
    }
   ],
   "source": [
    "Heart()"
   ]
  },
  {
   "cell_type": "code",
   "execution_count": null,
   "metadata": {},
   "outputs": [],
   "source": []
  }
 ],
 "metadata": {
  "kernelspec": {
   "display_name": "Python 3",
   "language": "python",
   "name": "python3"
  },
  "language_info": {
   "codemirror_mode": {
    "name": "ipython",
    "version": 3
   },
   "file_extension": ".py",
   "mimetype": "text/x-python",
   "name": "python",
   "nbconvert_exporter": "python",
   "pygments_lexer": "ipython3",
   "version": "3.8.5"
  }
 },
 "nbformat": 4,
 "nbformat_minor": 2
}
